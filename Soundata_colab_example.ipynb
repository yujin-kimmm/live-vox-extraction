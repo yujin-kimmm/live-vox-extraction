{
  "nbformat": 4,
  "nbformat_minor": 0,
  "metadata": {
    "colab": {
      "provenance": [],
      "toc_visible": true,
      "authorship_tag": "ABX9TyOVn//4jcJu5IOkgLLhOs38",
      "include_colab_link": true
    },
    "kernelspec": {
      "name": "python3",
      "display_name": "Python 3"
    },
    "language_info": {
      "name": "python"
    }
  },
  "cells": [
    {
      "cell_type": "markdown",
      "metadata": {
        "id": "view-in-github",
        "colab_type": "text"
      },
      "source": [
        "<a href=\"https://colab.research.google.com/github/yujin-kimmm/live-vox-extraction/blob/main/Soundata_colab_example.ipynb\" target=\"_parent\"><img src=\"https://colab.research.google.com/assets/colab-badge.svg\" alt=\"Open In Colab\"/></a>"
      ]
    },
    {
      "cell_type": "markdown",
      "metadata": {
        "id": "12266682"
      },
      "source": [
        "# **Welcome to the Soundata Colab Example!**\n",
        "\n",
        "This notebook provides a hands-on introduction to using the `soundata` library in Google Colab. `soundata` is a Python library designed to make it easy to load and work with common music information retrieval (MIR) datasets.\n",
        "\n",
        "In this notebook, you will learn how to:\n",
        "\n",
        "* Install `soundata`\n",
        "* Load a dataset\n",
        "* Download and store the dataset\n",
        "* Validate the dataset\n",
        "\n",
        "Let's get started!"
      ]
    },
    {
      "cell_type": "markdown",
      "source": [
        "## Getting Ready"
      ],
      "metadata": {
        "id": "bNte2R3YNTZL"
      }
    },
    {
      "cell_type": "markdown",
      "source": [
        "First, install `soundata` package"
      ],
      "metadata": {
        "id": "wIEV5CXJKX2E"
      }
    },
    {
      "cell_type": "code",
      "source": [
        "!pip install soundata"
      ],
      "metadata": {
        "collapsed": true,
        "id": "gfH833BIKTUl"
      },
      "execution_count": null,
      "outputs": []
    },
    {
      "cell_type": "markdown",
      "source": [
        "Next, import the `soundata` package"
      ],
      "metadata": {
        "id": "3N1FpBi6NYWh"
      }
    },
    {
      "cell_type": "code",
      "source": [
        "import soundata"
      ],
      "metadata": {
        "id": "MHj38awBKTZJ"
      },
      "execution_count": null,
      "outputs": []
    },
    {
      "cell_type": "markdown",
      "source": [
        "To check all available datasets in `soundata`, you can print the list of the datasets\n",
        "\n"
      ],
      "metadata": {
        "id": "f1Old7XQNcHr"
      }
    },
    {
      "cell_type": "code",
      "source": [
        "print(soundata.list_datasets())"
      ],
      "metadata": {
        "colab": {
          "base_uri": "https://localhost:8080/"
        },
        "id": "mzlfhZUYKxd-",
        "outputId": "380925be-f295-4622-9180-aac4e743aa6f"
      },
      "execution_count": null,
      "outputs": [
        {
          "output_type": "stream",
          "name": "stdout",
          "text": [
            "['clotho', 'dcase23_task2', 'dcase23_task4b', 'dcase23_task6a', 'dcase23_task6b', 'dcase_bioacoustic', 'dcase_birdVox20k', 'eigenscape', 'eigenscape_raw', 'esc50', 'freefield1010', 'fsd50k', 'fsdnoisy18k', 'marco', 'singapura', 'starss2022', 'tau2019sse', 'tau2019uas', 'tau2020sse_nigens', 'tau2020uas_mobile', 'tau2021sse_nigens', 'tau2022uas_mobile', 'tut2017se', 'urbansed', 'urbansound8k', 'warblrb10k']\n"
          ]
        }
      ]
    },
    {
      "cell_type": "markdown",
      "source": [
        "## Initialize a dataset\n",
        "\n",
        "To use a loader in `soundata`, you should first initialize it. For this example, we will use `urbansound8k` as an exmaple."
      ],
      "metadata": {
        "id": "wSD39xG4N3fw"
      }
    },
    {
      "cell_type": "code",
      "source": [
        "dataset = soundata.initialize('urbansound8k')"
      ],
      "metadata": {
        "id": "FnS-TwjhL762"
      },
      "execution_count": null,
      "outputs": []
    },
    {
      "cell_type": "markdown",
      "source": [
        "### Dataset versions\n",
        "\n",
        "Soundata supports working with multiple dataset versions. To see all available versions of a specific dataset, run `soundata.list_dataset_versions('urbansound8k')`. Use version parameter if you wish to use a version other than the default one."
      ],
      "metadata": {
        "id": "oEKUvQ3ydtJ1"
      }
    },
    {
      "cell_type": "code",
      "source": [
        "# if you are willing to use a default version of the dataset, please comment out or pass this cell.\n",
        "\n",
        "# To see all available versions of a specific dataset:\n",
        "soundata.list_dataset_versions('urbansound8k')\n",
        "\n",
        "# Use 'version' parameter if you wish to use a version other than the default one.\n",
        "dataset = soundata.initialize('urbansound8k', data_home='/choose/where/data/live', version=\"1.0\") # replace the directory to your directory."
      ],
      "metadata": {
        "id": "_0IZI7b9dsw7"
      },
      "execution_count": null,
      "outputs": []
    },
    {
      "cell_type": "markdown",
      "source": [
        "## Download the dataset"
      ],
      "metadata": {
        "id": "hehw8OAtPoeJ"
      }
    },
    {
      "cell_type": "markdown",
      "source": [
        "`soundata` datasets are downloaded to a default directory ``/root/sound_datasets/<Dataset_Name>`` in Colab. This directory is temporary and will be reset every time you restart your Google Colab Session."
      ],
      "metadata": {
        "id": "luY-_716Q7zo"
      }
    },
    {
      "cell_type": "code",
      "source": [
        "dataset.download()"
      ],
      "metadata": {
        "collapsed": true,
        "id": "YiRy17i_MNN4"
      },
      "execution_count": null,
      "outputs": []
    },
    {
      "cell_type": "markdown",
      "source": [
        "By default, data is downloaded to\n",
        "```\n",
        "/root/sound_datasets/<dataset_name>\n",
        "```"
      ],
      "metadata": {
        "id": "nL_1kTOtSPVs"
      }
    },
    {
      "cell_type": "markdown",
      "source": [
        "### Data Storage"
      ],
      "metadata": {
        "id": "KuCkL6PAamjR"
      }
    },
    {
      "cell_type": "markdown",
      "source": [
        "There are several ways to keep the dataset without downloading everytime you restart the session.\n",
        "\n",
        "1. **Copying the downloaded dataset to Google Drive:** After downloading the dataset, you can copy it to your Google Drive for persistent storage and easy access across different Colab sessions."
      ],
      "metadata": {
        "id": "KyljWysLQZQL"
      }
    },
    {
      "cell_type": "code",
      "source": [
        "from google.colab import drive\n",
        "drive.mount('/content/drive')\n",
        "\n",
        "# Replace the <dataset_name> to name of the dataset you downloaded.\n",
        "!cp -r /root/sound_datasets/<dataset_name> /content/drive/MyDrive/<dataset_name>"
      ],
      "metadata": {
        "id": "rxIX0BnUZPf3"
      },
      "execution_count": null,
      "outputs": []
    },
    {
      "cell_type": "markdown",
      "source": [
        "2. **Setting a custom download path when initializing the dataset:** You can specify a different download directory when initializing the dataset loader using the `data_home` parameter. This allows you to download the dataset directly to a desired location, such as a mounted Google Drive folder."
      ],
      "metadata": {
        "id": "V5KNiS_JROPK"
      }
    },
    {
      "cell_type": "code",
      "source": [
        "from google.colab import drive\n",
        "drive.mount('/content/drive')\n",
        "\n",
        "# Replace the <dataset_name> to name of the dataset you downloaded.\n",
        "import soundata\n",
        "dataset = soundata.initialize('<dataset_name>', data_home='/content/drive/MyDrive/<Folder_Name>')\n",
        "dataset.download() # Dataset will be downloaded to `data_home` directory."
      ],
      "metadata": {
        "id": "mu9jeG3VRRCz"
      },
      "execution_count": null,
      "outputs": []
    },
    {
      "cell_type": "markdown",
      "source": [
        "3. **Accessing a dataset downloaded outside of Google Colab:** If you have already downloaded a dataset locally, you can upload it to your Google Drive or directly to the Colab environment and then initialize the `soundata` loader with the path to the dataset directory using the `data_home` parameter."
      ],
      "metadata": {
        "id": "Xem5AbIFRQas"
      }
    },
    {
      "cell_type": "markdown",
      "source": [
        "## Validate the dataset"
      ],
      "metadata": {
        "id": "Mxq1xuVBRRhc"
      }
    },
    {
      "cell_type": "markdown",
      "source": [
        "Using the method `validate()`, we can check if the files in the local version are the same than the available canonical version, and the files were downloaded correctly (none of them are corrupted)."
      ],
      "metadata": {
        "id": "oAzx_PmAeYLB"
      }
    },
    {
      "cell_type": "code",
      "source": [
        "dataset.validate()"
      ],
      "metadata": {
        "id": "xJyLHc78MOj3",
        "colab": {
          "base_uri": "https://localhost:8080/"
        },
        "outputId": "47aaa084-2096-491e-8675-f7522c1cd90b"
      },
      "execution_count": null,
      "outputs": [
        {
          "output_type": "stream",
          "name": "stderr",
          "text": [
            "100%|██████████| 1/1 [00:00<00:00, 207.26it/s]\n",
            "100%|██████████| 8732/8732 [00:58<00:00, 148.58it/s]\n"
          ]
        },
        {
          "output_type": "execute_result",
          "data": {
            "text/plain": [
              "({'metadata': {}, 'clips': {}}, {'metadata': {}, 'clips': {}})"
            ]
          },
          "metadata": {},
          "execution_count": 7
        }
      ]
    },
    {
      "cell_type": "markdown",
      "source": [
        "Now you are ready to use soundata in Google Colab! You can explore more examples from the soundata usage examples in the documentation to learn about different datasets and tasks, and then apply these techniques and insights to your own music information retrieval projects."
      ],
      "metadata": {
        "id": "O8PC1nLgbNZA"
      }
    }
  ]
}